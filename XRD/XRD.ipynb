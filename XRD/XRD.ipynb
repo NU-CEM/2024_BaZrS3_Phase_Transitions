{
 "cells": [
  {
   "cell_type": "code",
   "execution_count": 8,
   "metadata": {},
   "outputs": [],
   "source": [
    "import numpy as np\n",
    "import matplotlib.pyplot as plt\n",
    "from ase.io import read, write\n",
    "from dynasor.qpoints import get_spherical_qpoints\n",
    "from dynasor import compute_static_structure_factors, Trajectory\n",
    "from dynasor.post_processing import get_spherically_averaged_sample_smearing \n",
    "import os "
   ]
  },
  {
   "cell_type": "code",
   "execution_count": 9,
   "metadata": {},
   "outputs": [
    {
     "data": {
      "text/plain": [
       "10240"
      ]
     },
     "execution_count": 9,
     "metadata": {},
     "output_type": "execute_result"
    }
   ],
   "source": [
    "structure_tags = ['orthorhombic-BZS']\n",
    "data_dict = dict()\n",
    "for structure_tag in structure_tags:\n",
    "\n",
    "    # write dummy traj\n",
    "    atoms = read(f'{structure_tag}.xyz')\n",
    "    atoms = atoms*8\n",
    "len(atoms)"
   ]
  },
  {
   "cell_type": "code",
   "execution_count": 10,
   "metadata": {},
   "outputs": [],
   "source": [
    "# MD setup \n",
    "for temperature in np.arange(0, 620, 20):\n",
    "    # setup directory\n",
    "    dirname = f'md_runs/NVT_ortho_size8_T{temperature}_nframes1000'\n",
    "    if not os.path.exists(f'{dirname}'):\n",
    "        os.mkdir(f'{dirname}')\n",
    "    # write model.xyz \n",
    "    write(f'{dirname}/model.xyz', atoms)\n",
    "    # write run.in\n",
    "    with open(f'{dirname}/run.in', 'w') as f:\n",
    "        f.write(f'potential ../nep.txt\\n')\n",
    "        f.write(f'velocity {2*temperature}\\n')\n",
    "        f.write(f'ensemble nvt_ber {temperature} {temperature} 100\\n')\n",
    "        f.write(f'dump_exyz 100 0 0\\n')\n",
    "        f.write(f'dump_thermo 100\\n')\n",
    "        f.write(f'run 100000\\n')"
   ]
  },
  {
   "cell_type": "code",
   "execution_count": 11,
   "metadata": {},
   "outputs": [
    {
     "data": {
      "text/plain": [
       "10000"
      ]
     },
     "execution_count": 11,
     "metadata": {},
     "output_type": "execute_result"
    }
   ],
   "source": [
    "structure_tags = ['tetragonal-BZS']\n",
    "data_dict = dict()\n",
    "for structure_tag in structure_tags:\n",
    "\n",
    "    # write dummy traj\n",
    "    atoms = read(f'{structure_tag}.xyz')\n",
    "    atoms = atoms*10\n",
    "len(atoms)"
   ]
  },
  {
   "cell_type": "code",
   "execution_count": 12,
   "metadata": {},
   "outputs": [],
   "source": [
    "# MD setup \n",
    "for temperature in np.arange(620, 900, 20):\n",
    "    # setup directory\n",
    "    dirname = f'md_runs/NVT_tet_size8_T{temperature}_nframes1000'\n",
    "    if not os.path.exists(f'{dirname}'):\n",
    "        os.mkdir(f'{dirname}')\n",
    "    # write model.xyz \n",
    "    write(f'{dirname}/model.xyz', atoms)\n",
    "    # write run.in\n",
    "    with open(f'{dirname}/run.in', 'w') as f:\n",
    "        f.write(f'potential ../nep.txt\\n')\n",
    "        f.write(f'velocity {2*temperature}\\n')\n",
    "        f.write(f'ensemble nvt_ber {temperature} {temperature} 100\\n')\n",
    "        f.write(f'dump_exyz 100 0 0\\n')\n",
    "        f.write(f'dump_thermo 100\\n')\n",
    "        f.write(f'run 100000\\n')"
   ]
  },
  {
   "cell_type": "code",
   "execution_count": 13,
   "metadata": {},
   "outputs": [
    {
     "data": {
      "text/plain": [
       "10985"
      ]
     },
     "execution_count": 13,
     "metadata": {},
     "output_type": "execute_result"
    }
   ],
   "source": [
    "structure_tags = ['cubic-BZS']\n",
    "data_dict = dict()\n",
    "for structure_tag in structure_tags:\n",
    "\n",
    "    # write dummy traj\n",
    "    atoms = read(f'{structure_tag}.xyz')\n",
    "    atoms = atoms*13\n",
    "len(atoms)"
   ]
  },
  {
   "cell_type": "code",
   "execution_count": 14,
   "metadata": {},
   "outputs": [],
   "source": [
    "# MD setup \n",
    "for temperature in np.arange(900, 1220, 20):\n",
    "    # setup directory\n",
    "    dirname = f'md_runs/NVT_cubic_size8_T{temperature}_nframes1000'\n",
    "    if not os.path.exists(f'{dirname}'):\n",
    "        os.mkdir(f'{dirname}')\n",
    "    # write model.xyz \n",
    "    write(f'{dirname}/model.xyz', atoms)\n",
    "    # write run.in\n",
    "    with open(f'{dirname}/run.in', 'w') as f:\n",
    "        f.write(f'potential ../nep.txt\\n')\n",
    "        f.write(f'velocity {2*temperature}\\n')\n",
    "        f.write(f'ensemble nvt_ber {temperature} {temperature} 100\\n')\n",
    "        f.write(f'dump_exyz 100 0 0\\n')\n",
    "        f.write(f'dump_thermo 100\\n')\n",
    "        f.write(f'run 100000\\n')"
   ]
  },
  {
   "cell_type": "markdown",
   "metadata": {},
   "source": []
  },
  {
   "cell_type": "code",
   "execution_count": null,
   "metadata": {},
   "outputs": [],
   "source": []
  }
 ],
 "metadata": {
  "kernelspec": {
   "display_name": "nep",
   "language": "python",
   "name": "python3"
  },
  "language_info": {
   "codemirror_mode": {
    "name": "ipython",
    "version": 3
   },
   "file_extension": ".py",
   "mimetype": "text/x-python",
   "name": "python",
   "nbconvert_exporter": "python",
   "pygments_lexer": "ipython3",
   "version": "3.11.0"
  }
 },
 "nbformat": 4,
 "nbformat_minor": 2
}
