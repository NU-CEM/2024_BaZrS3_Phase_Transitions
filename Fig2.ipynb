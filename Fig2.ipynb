{
 "cells": [
  {
   "cell_type": "code",
   "execution_count": 1,
   "id": "b39d56d6-38cb-45ff-b8fe-2792f6dc09ea",
   "metadata": {},
   "outputs": [],
   "source": [
    "import numpy as np\n",
    "from ase.io import read\n",
    "from ase.spacegroup.symmetrize import FixSymmetry\n",
    "from calorine.calculators import CPUNEP\n",
    "from calorine.tools import get_force_constants, relax_structure\n",
    "from pandas import DataFrame\n",
    "from phonopy.units import THzToCm\n",
    "from seekpath import get_explicit_k_path\n",
    "import phonopy\n",
    "from matplotlib import pyplot as plt"
   ]
  },
  {
   "cell_type": "code",
   "execution_count": 3,
   "id": "a980737c",
   "metadata": {},
   "outputs": [],
   "source": [
    "path = \"GXMGRM\"\n",
    "special_points = dict(\n",
    "    G = [0,0,0],\n",
    "    M = [1/2, 1/2, 0],\n",
    "    R = [1/2, 1/2, 1/2],\n",
    "    X = [0, 1/2, 0]\n",
    ")\n",
    "path_list = []\n",
    "for start, stop in zip(path[:-1], path[1:]):\n",
    "    start = special_points[start]\n",
    "    stop = special_points[stop]\n",
    "    path_list.append(np.linspace(start, stop, 100))"
   ]
  },
  {
   "cell_type": "code",
   "execution_count": 4,
   "id": "8c8ae3f9-d9d5-4ad3-917e-3c73e518282c",
   "metadata": {},
   "outputs": [
    {
     "ename": "TypeError",
     "evalue": "string indices must be integers, not 'str'",
     "output_type": "error",
     "traceback": [
      "\u001b[0;31m---------------------------------------------------------------------------\u001b[0m",
      "\u001b[0;31mTypeError\u001b[0m                                 Traceback (most recent call last)",
      "Cell \u001b[0;32mIn[4], line 2\u001b[0m\n\u001b[1;32m      1\u001b[0m phonon_DFT \u001b[38;5;241m=\u001b[39m phonopy\u001b[38;5;241m.\u001b[39mload(\u001b[38;5;124m\"\u001b[39m\u001b[38;5;124mBaZrS3_tilt_62/phonons/phonopy/output/phonopy.yaml\u001b[39m\u001b[38;5;124m\"\u001b[39m)\n\u001b[0;32m----> 2\u001b[0m phonon_DFT\u001b[38;5;241m.\u001b[39mrun_band_structure([\u001b[43mpath\u001b[49m\u001b[43m[\u001b[49m\u001b[38;5;124;43m'\u001b[39;49m\u001b[38;5;124;43mexplicit_kpoints_rel\u001b[39;49m\u001b[38;5;124;43m'\u001b[39;49m\u001b[43m]\u001b[49m])\n\u001b[1;32m      3\u001b[0m band_DFT \u001b[38;5;241m=\u001b[39m phonon_DFT\u001b[38;5;241m.\u001b[39mget_band_structure_dict()\n\u001b[1;32m      4\u001b[0m df_DFT \u001b[38;5;241m=\u001b[39m DataFrame(band_DFT[\u001b[38;5;124m'\u001b[39m\u001b[38;5;124mfrequencies\u001b[39m\u001b[38;5;124m'\u001b[39m][\u001b[38;5;241m0\u001b[39m])\n",
      "\u001b[0;31mTypeError\u001b[0m: string indices must be integers, not 'str'"
     ]
    }
   ],
   "source": [
    "phonon_DFT = phonopy.load(\"BaZrS3_tilt_62/phonons/phonopy/output/phonopy.yaml\")\n",
    "phonon_DFT.run_band_structure([path['explicit_kpoints_rel']])\n",
    "band_DFT = phonon_DFT.get_band_structure_dict()\n",
    "df_DFT = DataFrame(band_DFT['frequencies'][0])\n",
    "df_DFT.index = path['explicit_kpoints_linearcoord']"
   ]
  },
  {
   "cell_type": "code",
   "execution_count": 6,
   "id": "e19f4896-83cc-4366-9e4e-750b5c27d84e",
   "metadata": {},
   "outputs": [
    {
     "ename": "NameError",
     "evalue": "name 'df' is not defined",
     "output_type": "error",
     "traceback": [
      "\u001b[0;31m---------------------------------------------------------------------------\u001b[0m",
      "\u001b[0;31mNameError\u001b[0m                                 Traceback (most recent call last)",
      "Cell \u001b[0;32mIn[6], line 3\u001b[0m\n\u001b[1;32m      1\u001b[0m fig, ax \u001b[38;5;241m=\u001b[39m plt\u001b[38;5;241m.\u001b[39msubplots(figsize\u001b[38;5;241m=\u001b[39m(\u001b[38;5;241m4.2\u001b[39m, \u001b[38;5;241m3\u001b[39m), dpi\u001b[38;5;241m=\u001b[39m\u001b[38;5;241m140\u001b[39m)\n\u001b[0;32m----> 3\u001b[0m \u001b[38;5;28;01mfor\u001b[39;00m col \u001b[38;5;129;01min\u001b[39;00m \u001b[43mdf\u001b[49m\u001b[38;5;241m.\u001b[39mcolumns:\n\u001b[1;32m      4\u001b[0m     ax\u001b[38;5;241m.\u001b[39mplot(df_DFT\u001b[38;5;241m.\u001b[39mindex, df_DFT[col], color\u001b[38;5;241m=\u001b[39m\u001b[38;5;124m'\u001b[39m\u001b[38;5;124mgreen\u001b[39m\u001b[38;5;124m'\u001b[39m)\n\u001b[1;32m      5\u001b[0m ax\u001b[38;5;241m.\u001b[39mset_xlim(df\u001b[38;5;241m.\u001b[39mindex\u001b[38;5;241m.\u001b[39mmin(), df\u001b[38;5;241m.\u001b[39mindex\u001b[38;5;241m.\u001b[39mmax())\n",
      "\u001b[0;31mNameError\u001b[0m: name 'df' is not defined"
     ]
    },
    {
     "data": {
      "image/png": "[encoded data removed]",
      "text/plain": [
       "<Figure size 588x420 with 1 Axes>"
      ]
     },
     "metadata": {},
     "output_type": "display_data"
    }
   ],
   "source": [
    "fig, ax = plt.subplots(figsize=(4.2, 3), dpi=140)\n",
    "\n",
    "for col in df.columns:\n",
    "    ax.plot(df_DFT.index, df_DFT[col], color='green')\n",
    "ax.set_xlim(df_DFT.index.min(), df_DFT.index.max())\n",
    "\n",
    "ax.set_ylabel('Frequency (THz)')\n",
    "ax2 = ax.twinx()\n",
    "ax2.set_ylabel('Frequency (cm$^{-1}$)')\n",
    "ax2.set_ylim(THzToCm * np.array(ax.get_ylim()))\n",
    "\n",
    "# beautify the labels on the x-axis\n",
    "labels = path['explicit_kpoints_labels']\n",
    "labels = ['$\\Gamma$' if m == 'GAMMA' else m for m in labels]\n",
    "labels = [m.replace('_', '$_') + '$' if '_' in m else m for m in labels]\n",
    "df_path = DataFrame(dict(labels=labels,\n",
    "                         positions=path['explicit_kpoints_linearcoord']))\n",
    "df_path.drop(df_path.index[df_path.labels == ''], axis=0, inplace=True)\n",
    "ax.set_xticks(df_path.positions)\n",
    "ax.set_xticklabels(df_path.labels)\n",
    "for xp in df_path.positions:\n",
    "    ax.axvline(xp, color='0.8')\n",
    "\n",
    "plt.tight_layout()"
   ]
  },
  {
   "cell_type": "code",
   "execution_count": null,
   "id": "6f8ca675-ee88-4f14-a9ca-51b8e8106563",
   "metadata": {},
   "outputs": [],
   "source": []
  },
  {
   "cell_type": "code",
   "execution_count": null,
   "id": "287fa294-3e84-4caf-a939-5d9692152f37",
   "metadata": {},
   "outputs": [],
   "source": []
  }
 ],
 "metadata": {
  "kernelspec": {
   "display_name": "Python 3.11.9 ('nep')",
   "language": "python",
   "name": "python3"
  },
  "language_info": {
   "codemirror_mode": {
    "name": "ipython",
    "version": 3
   },
   "file_extension": ".py",
   "mimetype": "text/x-python",
   "name": "python",
   "nbconvert_exporter": "python",
   "pygments_lexer": "ipython3",
   "version": "3.11.9"
  },
  "vscode": {
   "interpreter": {
    "hash": "47ea89ae0ad6a6bf62df66cfb666485aeeabe225ed3915eec999aa1992c8ba01"
   }
  }
 },
 "nbformat": 4,
 "nbformat_minor": 5
}
